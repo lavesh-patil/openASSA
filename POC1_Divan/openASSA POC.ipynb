{
 "cells": [
  {
   "cell_type": "markdown",
   "metadata": {},
   "source": [
    "## openASSA Python proof of concept\n",
    "1. Use custom accessor on pandas dataframes to add custom methods to standardize and validate input data\n",
    "2. Define common custom calculations to apply to dataframe"
   ]
  },
  {
   "cell_type": "code",
   "execution_count": 1,
   "metadata": {},
   "outputs": [],
   "source": [
    "import numpy as np\n",
    "import pandas as pd\n",
    "from datetime import datetime"
   ]
  },
  {
   "cell_type": "markdown",
   "metadata": {},
   "source": [
    "custom accessor on pandas dataframes to create a namespace that allows validation to be performed"
   ]
  },
  {
   "cell_type": "code",
   "execution_count": 2,
   "metadata": {},
   "outputs": [],
   "source": [
    "@pd.api.extensions.register_dataframe_accessor(\"lifetables\")\n",
    "class LifeAccessor:\n",
    "    def __init__(self, pandas_obj):\n",
    "        self._obj = pandas_obj\n",
    "    \n",
    "    def percent_to_decimal(self, column_name):\n",
    "        if pd.api.types.is_string_dtype(self._obj[column_name]):\n",
    "            self._obj[column_name] = self._obj[column_name].str.rstrip('%').astype('float') / 100.0\n",
    "        return self._obj\n",
    "        \n",
    "    def validate(self, table_type):\n",
    "        if table_type == 'life':\n",
    "            if 'qx' not in self._obj.columns:\n",
    "                raise AttributeError(\"Must have 'qx' column.\")\n",
    "            elif not pd.api.types.is_numeric_dtype(self._obj['qx']):\n",
    "                raise AttributeError(\"This column must contain numeric data.\")\n",
    "            else:\n",
    "                return True\n",
    "        elif table_type == 'lapse':\n",
    "            if 'lapse_rate' not in self._obj.columns:\n",
    "                raise AttributeError(\"Must have 'lapse_rate' column.\")\n",
    "            elif not pd.api.types.is_numeric_dtype(self._obj['lapse_rate']):\n",
    "                raise AttributeError(\"This column must contain numeric data.\")\n",
    "            else:\n",
    "                return True\n",
    "        elif table_type == 'yield':\n",
    "            if 'yield_curve' not in self._obj.columns:\n",
    "                raise AttributeError(\"Must have 'yield_curve' column.\")\n",
    "            elif not pd.api.types.is_numeric_dtype(self._obj['yield_curve']):\n",
    "                raise AttributeError(\"This column must contain numeric data.\")\n",
    "            else:\n",
    "                return True\n",
    "        else:\n",
    "            print('Provide a table type to validate: life, lapse or yield')\n",
    "            return False"
   ]
  },
  {
   "cell_type": "markdown",
   "metadata": {},
   "source": [
    "load the external data into dataframes, assuming tab delimited text files, could be exchanged for any other data source"
   ]
  },
  {
   "cell_type": "code",
   "execution_count": 3,
   "metadata": {},
   "outputs": [],
   "source": [
    "life_df = pd.read_table('Mortality_Table.txt', index_col='Age')\n",
    "lapse_df = pd.read_table('Lapse_Table.txt', index_col='Duration(Years)')\n",
    "yield_df = pd.read_table('Yield_Curve.txt', index_col='Duration(Months)')"
   ]
  },
  {
   "cell_type": "markdown",
   "metadata": {},
   "source": [
    "validate the dataframes"
   ]
  },
  {
   "cell_type": "code",
   "execution_count": 4,
   "metadata": {},
   "outputs": [
    {
     "ename": "AttributeError",
     "evalue": "Must have 'lapse_rate' column.",
     "output_type": "error",
     "traceback": [
      "\u001b[1;31m---------------------------------------------------------------------------\u001b[0m",
      "\u001b[1;31mAttributeError\u001b[0m                            Traceback (most recent call last)",
      "\u001b[1;32m<ipython-input-4-ac5ebba49fc8>\u001b[0m in \u001b[0;36m<module>\u001b[1;34m\u001b[0m\n\u001b[0;32m      1\u001b[0m \u001b[0mlife_df\u001b[0m\u001b[1;33m.\u001b[0m\u001b[0mlifetables\u001b[0m\u001b[1;33m.\u001b[0m\u001b[0mvalidate\u001b[0m\u001b[1;33m(\u001b[0m\u001b[1;34m'life'\u001b[0m\u001b[1;33m)\u001b[0m\u001b[1;33m\u001b[0m\u001b[1;33m\u001b[0m\u001b[0m\n\u001b[1;32m----> 2\u001b[1;33m \u001b[0mlapse_df\u001b[0m\u001b[1;33m.\u001b[0m\u001b[0mlifetables\u001b[0m\u001b[1;33m.\u001b[0m\u001b[0mvalidate\u001b[0m\u001b[1;33m(\u001b[0m\u001b[1;34m'lapse'\u001b[0m\u001b[1;33m)\u001b[0m\u001b[1;33m\u001b[0m\u001b[1;33m\u001b[0m\u001b[0m\n\u001b[0m\u001b[0;32m      3\u001b[0m \u001b[0myield_df\u001b[0m\u001b[1;33m.\u001b[0m\u001b[0mlifetables\u001b[0m\u001b[1;33m.\u001b[0m\u001b[0mvalidate\u001b[0m\u001b[1;33m(\u001b[0m\u001b[1;34m'yield'\u001b[0m\u001b[1;33m)\u001b[0m\u001b[1;33m\u001b[0m\u001b[1;33m\u001b[0m\u001b[0m\n",
      "\u001b[1;32m<ipython-input-2-5af3f4250f7c>\u001b[0m in \u001b[0;36mvalidate\u001b[1;34m(self, table_type)\u001b[0m\n\u001b[0;32m     19\u001b[0m         \u001b[1;32melif\u001b[0m \u001b[0mtable_type\u001b[0m \u001b[1;33m==\u001b[0m \u001b[1;34m'lapse'\u001b[0m\u001b[1;33m:\u001b[0m\u001b[1;33m\u001b[0m\u001b[1;33m\u001b[0m\u001b[0m\n\u001b[0;32m     20\u001b[0m             \u001b[1;32mif\u001b[0m \u001b[1;34m'lapse_rate'\u001b[0m \u001b[1;32mnot\u001b[0m \u001b[1;32min\u001b[0m \u001b[0mself\u001b[0m\u001b[1;33m.\u001b[0m\u001b[0m_obj\u001b[0m\u001b[1;33m.\u001b[0m\u001b[0mcolumns\u001b[0m\u001b[1;33m:\u001b[0m\u001b[1;33m\u001b[0m\u001b[1;33m\u001b[0m\u001b[0m\n\u001b[1;32m---> 21\u001b[1;33m                 \u001b[1;32mraise\u001b[0m \u001b[0mAttributeError\u001b[0m\u001b[1;33m(\u001b[0m\u001b[1;34m\"Must have 'lapse_rate' column.\"\u001b[0m\u001b[1;33m)\u001b[0m\u001b[1;33m\u001b[0m\u001b[1;33m\u001b[0m\u001b[0m\n\u001b[0m\u001b[0;32m     22\u001b[0m             \u001b[1;32melif\u001b[0m \u001b[1;32mnot\u001b[0m \u001b[0mpd\u001b[0m\u001b[1;33m.\u001b[0m\u001b[0mapi\u001b[0m\u001b[1;33m.\u001b[0m\u001b[0mtypes\u001b[0m\u001b[1;33m.\u001b[0m\u001b[0mis_numeric_dtype\u001b[0m\u001b[1;33m(\u001b[0m\u001b[0mself\u001b[0m\u001b[1;33m.\u001b[0m\u001b[0m_obj\u001b[0m\u001b[1;33m[\u001b[0m\u001b[1;34m'lapse_rate'\u001b[0m\u001b[1;33m]\u001b[0m\u001b[1;33m)\u001b[0m\u001b[1;33m:\u001b[0m\u001b[1;33m\u001b[0m\u001b[1;33m\u001b[0m\u001b[0m\n\u001b[0;32m     23\u001b[0m                 \u001b[1;32mraise\u001b[0m \u001b[0mAttributeError\u001b[0m\u001b[1;33m(\u001b[0m\u001b[1;34m\"This column must contain numeric data.\"\u001b[0m\u001b[1;33m)\u001b[0m\u001b[1;33m\u001b[0m\u001b[1;33m\u001b[0m\u001b[0m\n",
      "\u001b[1;31mAttributeError\u001b[0m: Must have 'lapse_rate' column."
     ]
    }
   ],
   "source": [
    "life_df.lifetables.validate('life')\n",
    "lapse_df.lifetables.validate('lapse')\n",
    "yield_df.lifetables.validate('yield')"
   ]
  },
  {
   "cell_type": "code",
   "execution_count": 5,
   "metadata": {},
   "outputs": [
    {
     "data": {
      "text/html": [
       "<div>\n",
       "<style scoped>\n",
       "    .dataframe tbody tr th:only-of-type {\n",
       "        vertical-align: middle;\n",
       "    }\n",
       "\n",
       "    .dataframe tbody tr th {\n",
       "        vertical-align: top;\n",
       "    }\n",
       "\n",
       "    .dataframe thead th {\n",
       "        text-align: right;\n",
       "    }\n",
       "</style>\n",
       "<table border=\"1\" class=\"dataframe\">\n",
       "  <thead>\n",
       "    <tr style=\"text-align: right;\">\n",
       "      <th></th>\n",
       "      <th>Annual_Lapse_Rate</th>\n",
       "    </tr>\n",
       "    <tr>\n",
       "      <th>Duration(Years)</th>\n",
       "      <th></th>\n",
       "    </tr>\n",
       "  </thead>\n",
       "  <tbody>\n",
       "    <tr>\n",
       "      <th>1</th>\n",
       "      <td>10%</td>\n",
       "    </tr>\n",
       "    <tr>\n",
       "      <th>2</th>\n",
       "      <td>9%</td>\n",
       "    </tr>\n",
       "    <tr>\n",
       "      <th>3</th>\n",
       "      <td>8%</td>\n",
       "    </tr>\n",
       "    <tr>\n",
       "      <th>4</th>\n",
       "      <td>7%</td>\n",
       "    </tr>\n",
       "    <tr>\n",
       "      <th>5</th>\n",
       "      <td>6%</td>\n",
       "    </tr>\n",
       "  </tbody>\n",
       "</table>\n",
       "</div>"
      ],
      "text/plain": [
       "                Annual_Lapse_Rate\n",
       "Duration(Years)                  \n",
       "1                             10%\n",
       "2                              9%\n",
       "3                              8%\n",
       "4                              7%\n",
       "5                              6%"
      ]
     },
     "execution_count": 5,
     "metadata": {},
     "output_type": "execute_result"
    }
   ],
   "source": [
    "lapse_df.head()"
   ]
  },
  {
   "cell_type": "code",
   "execution_count": 6,
   "metadata": {},
   "outputs": [
    {
     "data": {
      "text/plain": [
       "['Annual_Lapse_Rate']"
      ]
     },
     "execution_count": 6,
     "metadata": {},
     "output_type": "execute_result"
    }
   ],
   "source": [
    "list(lapse_df)"
   ]
  },
  {
   "cell_type": "code",
   "execution_count": 7,
   "metadata": {},
   "outputs": [
    {
     "data": {
      "text/plain": [
       "Index(['lapse_rate'], dtype='object')"
      ]
     },
     "execution_count": 7,
     "metadata": {},
     "output_type": "execute_result"
    }
   ],
   "source": [
    "lapse_df.rename(columns={'Annual_Lapse_Rate': 'lapse_rate'}, inplace=True)\n",
    "lapse_df.columns"
   ]
  },
  {
   "cell_type": "code",
   "execution_count": 8,
   "metadata": {},
   "outputs": [
    {
     "ename": "AttributeError",
     "evalue": "This column must contain numeric data.",
     "output_type": "error",
     "traceback": [
      "\u001b[1;31m---------------------------------------------------------------------------\u001b[0m",
      "\u001b[1;31mAttributeError\u001b[0m                            Traceback (most recent call last)",
      "\u001b[1;32m<ipython-input-8-3958f0cfc07e>\u001b[0m in \u001b[0;36m<module>\u001b[1;34m\u001b[0m\n\u001b[1;32m----> 1\u001b[1;33m \u001b[0mlapse_df\u001b[0m\u001b[1;33m.\u001b[0m\u001b[0mlifetables\u001b[0m\u001b[1;33m.\u001b[0m\u001b[0mvalidate\u001b[0m\u001b[1;33m(\u001b[0m\u001b[1;34m'lapse'\u001b[0m\u001b[1;33m)\u001b[0m\u001b[1;33m\u001b[0m\u001b[1;33m\u001b[0m\u001b[0m\n\u001b[0m",
      "\u001b[1;32m<ipython-input-2-5af3f4250f7c>\u001b[0m in \u001b[0;36mvalidate\u001b[1;34m(self, table_type)\u001b[0m\n\u001b[0;32m     21\u001b[0m                 \u001b[1;32mraise\u001b[0m \u001b[0mAttributeError\u001b[0m\u001b[1;33m(\u001b[0m\u001b[1;34m\"Must have 'lapse_rate' column.\"\u001b[0m\u001b[1;33m)\u001b[0m\u001b[1;33m\u001b[0m\u001b[1;33m\u001b[0m\u001b[0m\n\u001b[0;32m     22\u001b[0m             \u001b[1;32melif\u001b[0m \u001b[1;32mnot\u001b[0m \u001b[0mpd\u001b[0m\u001b[1;33m.\u001b[0m\u001b[0mapi\u001b[0m\u001b[1;33m.\u001b[0m\u001b[0mtypes\u001b[0m\u001b[1;33m.\u001b[0m\u001b[0mis_numeric_dtype\u001b[0m\u001b[1;33m(\u001b[0m\u001b[0mself\u001b[0m\u001b[1;33m.\u001b[0m\u001b[0m_obj\u001b[0m\u001b[1;33m[\u001b[0m\u001b[1;34m'lapse_rate'\u001b[0m\u001b[1;33m]\u001b[0m\u001b[1;33m)\u001b[0m\u001b[1;33m:\u001b[0m\u001b[1;33m\u001b[0m\u001b[1;33m\u001b[0m\u001b[0m\n\u001b[1;32m---> 23\u001b[1;33m                 \u001b[1;32mraise\u001b[0m \u001b[0mAttributeError\u001b[0m\u001b[1;33m(\u001b[0m\u001b[1;34m\"This column must contain numeric data.\"\u001b[0m\u001b[1;33m)\u001b[0m\u001b[1;33m\u001b[0m\u001b[1;33m\u001b[0m\u001b[0m\n\u001b[0m\u001b[0;32m     24\u001b[0m             \u001b[1;32melse\u001b[0m\u001b[1;33m:\u001b[0m\u001b[1;33m\u001b[0m\u001b[1;33m\u001b[0m\u001b[0m\n\u001b[0;32m     25\u001b[0m                 \u001b[1;32mreturn\u001b[0m \u001b[1;32mTrue\u001b[0m\u001b[1;33m\u001b[0m\u001b[1;33m\u001b[0m\u001b[0m\n",
      "\u001b[1;31mAttributeError\u001b[0m: This column must contain numeric data."
     ]
    }
   ],
   "source": [
    "lapse_df.lifetables.validate('lapse')"
   ]
  },
  {
   "cell_type": "code",
   "execution_count": 9,
   "metadata": {},
   "outputs": [
    {
     "data": {
      "text/html": [
       "<div>\n",
       "<style scoped>\n",
       "    .dataframe tbody tr th:only-of-type {\n",
       "        vertical-align: middle;\n",
       "    }\n",
       "\n",
       "    .dataframe tbody tr th {\n",
       "        vertical-align: top;\n",
       "    }\n",
       "\n",
       "    .dataframe thead th {\n",
       "        text-align: right;\n",
       "    }\n",
       "</style>\n",
       "<table border=\"1\" class=\"dataframe\">\n",
       "  <thead>\n",
       "    <tr style=\"text-align: right;\">\n",
       "      <th></th>\n",
       "      <th>lapse_rate</th>\n",
       "    </tr>\n",
       "    <tr>\n",
       "      <th>Duration(Years)</th>\n",
       "      <th></th>\n",
       "    </tr>\n",
       "  </thead>\n",
       "  <tbody>\n",
       "    <tr>\n",
       "      <th>1</th>\n",
       "      <td>0.10</td>\n",
       "    </tr>\n",
       "    <tr>\n",
       "      <th>2</th>\n",
       "      <td>0.09</td>\n",
       "    </tr>\n",
       "    <tr>\n",
       "      <th>3</th>\n",
       "      <td>0.08</td>\n",
       "    </tr>\n",
       "    <tr>\n",
       "      <th>4</th>\n",
       "      <td>0.07</td>\n",
       "    </tr>\n",
       "    <tr>\n",
       "      <th>5</th>\n",
       "      <td>0.06</td>\n",
       "    </tr>\n",
       "    <tr>\n",
       "      <th>6</th>\n",
       "      <td>0.05</td>\n",
       "    </tr>\n",
       "    <tr>\n",
       "      <th>7</th>\n",
       "      <td>0.04</td>\n",
       "    </tr>\n",
       "    <tr>\n",
       "      <th>8</th>\n",
       "      <td>0.03</td>\n",
       "    </tr>\n",
       "    <tr>\n",
       "      <th>9</th>\n",
       "      <td>0.02</td>\n",
       "    </tr>\n",
       "    <tr>\n",
       "      <th>10</th>\n",
       "      <td>0.01</td>\n",
       "    </tr>\n",
       "  </tbody>\n",
       "</table>\n",
       "</div>"
      ],
      "text/plain": [
       "                 lapse_rate\n",
       "Duration(Years)            \n",
       "1                      0.10\n",
       "2                      0.09\n",
       "3                      0.08\n",
       "4                      0.07\n",
       "5                      0.06\n",
       "6                      0.05\n",
       "7                      0.04\n",
       "8                      0.03\n",
       "9                      0.02\n",
       "10                     0.01"
      ]
     },
     "execution_count": 9,
     "metadata": {},
     "output_type": "execute_result"
    }
   ],
   "source": [
    "lapse_df = lapse_df.lifetables.percent_to_decimal('lapse_rate')\n",
    "lapse_df.lifetables.validate('lapse')\n",
    "lapse_df"
   ]
  },
  {
   "cell_type": "code",
   "execution_count": 10,
   "metadata": {},
   "outputs": [
    {
     "data": {
      "text/plain": [
       "True"
      ]
     },
     "execution_count": 10,
     "metadata": {},
     "output_type": "execute_result"
    }
   ],
   "source": [
    "#yield_df.lifetables.validate('yield') \n",
    "yield_df.rename(columns={'Spot_Rate(NACA)': 'yield_curve'}, inplace=True)\n",
    "yield_df.lifetables.percent_to_decimal('yield_curve')\n",
    "yield_df.lifetables.validate('yield')"
   ]
  },
  {
   "cell_type": "markdown",
   "metadata": {},
   "source": [
    "create period indices"
   ]
  },
  {
   "cell_type": "code",
   "execution_count": 11,
   "metadata": {},
   "outputs": [],
   "source": [
    "def create_period_index(dataframe, freq, start=datetime.today().date()):\n",
    "    dataframe.index = pd.date_range(start=start, periods=len(dataframe), freq=freq).to_period()\n",
    "    return dataframe"
   ]
  },
  {
   "cell_type": "code",
   "execution_count": 12,
   "metadata": {},
   "outputs": [],
   "source": [
    "yield_df = create_period_index(yield_df, 'M')\n",
    "lapse_df = create_period_index(lapse_df, 'Y')"
   ]
  },
  {
   "cell_type": "markdown",
   "metadata": {},
   "source": [
    "convert yearly to monthly"
   ]
  },
  {
   "cell_type": "code",
   "execution_count": 13,
   "metadata": {},
   "outputs": [
    {
     "data": {
      "text/html": [
       "<div>\n",
       "<style scoped>\n",
       "    .dataframe tbody tr th:only-of-type {\n",
       "        vertical-align: middle;\n",
       "    }\n",
       "\n",
       "    .dataframe tbody tr th {\n",
       "        vertical-align: top;\n",
       "    }\n",
       "\n",
       "    .dataframe thead th {\n",
       "        text-align: right;\n",
       "    }\n",
       "</style>\n",
       "<table border=\"1\" class=\"dataframe\">\n",
       "  <thead>\n",
       "    <tr style=\"text-align: right;\">\n",
       "      <th></th>\n",
       "      <th>yield_curve</th>\n",
       "    </tr>\n",
       "  </thead>\n",
       "  <tbody>\n",
       "    <tr>\n",
       "      <th>2020-10</th>\n",
       "      <td>0.1</td>\n",
       "    </tr>\n",
       "    <tr>\n",
       "      <th>2020-11</th>\n",
       "      <td>0.1</td>\n",
       "    </tr>\n",
       "    <tr>\n",
       "      <th>2020-12</th>\n",
       "      <td>0.1</td>\n",
       "    </tr>\n",
       "    <tr>\n",
       "      <th>2021-01</th>\n",
       "      <td>0.1</td>\n",
       "    </tr>\n",
       "    <tr>\n",
       "      <th>2021-02</th>\n",
       "      <td>0.1</td>\n",
       "    </tr>\n",
       "    <tr>\n",
       "      <th>...</th>\n",
       "      <td>...</td>\n",
       "    </tr>\n",
       "    <tr>\n",
       "      <th>2072-04</th>\n",
       "      <td>0.1</td>\n",
       "    </tr>\n",
       "    <tr>\n",
       "      <th>2072-05</th>\n",
       "      <td>0.1</td>\n",
       "    </tr>\n",
       "    <tr>\n",
       "      <th>2072-06</th>\n",
       "      <td>0.1</td>\n",
       "    </tr>\n",
       "    <tr>\n",
       "      <th>2072-07</th>\n",
       "      <td>0.1</td>\n",
       "    </tr>\n",
       "    <tr>\n",
       "      <th>2072-08</th>\n",
       "      <td>0.1</td>\n",
       "    </tr>\n",
       "  </tbody>\n",
       "</table>\n",
       "<p>623 rows × 1 columns</p>\n",
       "</div>"
      ],
      "text/plain": [
       "         yield_curve\n",
       "2020-10          0.1\n",
       "2020-11          0.1\n",
       "2020-12          0.1\n",
       "2021-01          0.1\n",
       "2021-02          0.1\n",
       "...              ...\n",
       "2072-04          0.1\n",
       "2072-05          0.1\n",
       "2072-06          0.1\n",
       "2072-07          0.1\n",
       "2072-08          0.1\n",
       "\n",
       "[623 rows x 1 columns]"
      ]
     },
     "execution_count": 13,
     "metadata": {},
     "output_type": "execute_result"
    }
   ],
   "source": [
    "yield_df"
   ]
  },
  {
   "cell_type": "code",
   "execution_count": 14,
   "metadata": {},
   "outputs": [],
   "source": [
    "lapse_df = (lapse_df / 12).resample('M').interpolate()"
   ]
  },
  {
   "cell_type": "markdown",
   "metadata": {},
   "source": [
    "simple life class with validation rules built in"
   ]
  },
  {
   "cell_type": "code",
   "execution_count": 19,
   "metadata": {},
   "outputs": [],
   "source": [
    "class simple_life():\n",
    "    '''\n",
    "    docstring goes here\n",
    "    '''\n",
    "\n",
    "    def __init__(self, date_of_birth, premium, sum_assured, months_in_force=0):\n",
    "        '''\n",
    "        :param date_of_birth, must be a datetime object\n",
    "        :param premium: the premium paid per period\n",
    "        :param sum_assured: the sum assured\n",
    "        :param months_in_force: total months the policy has been in force\n",
    "        '''\n",
    "        self.date_of_birth = date_of_birth\n",
    "        self.premium = premium\n",
    "        self.sum_assured = sum_assured\n",
    "        self.months_in_force = months_in_force\n",
    "        \n",
    "    def calculate_deaths(self, qx, lapse_rate):\n",
    "        return qx / 12 * (1 - 0.5 * lapse_rate)\n",
    "\n",
    "    def calculate_surrenders(self, qx, lapse_rate):\n",
    "        return lapse_rate * (1 - 0.5 * lapse_rate)\n",
    "        \n",
    "    def calculate_age(self, date):\n",
    "        return date.year - self.date_of_birth.year - ((date.month, date.day) < (self.date_of_birth.month, self.date_of_birth.day))\n",
    "\n",
    "    def forecast_table(self, forecast_periods, life_df, lapse_df, yield_df, freq='M'):\n",
    "        '''\n",
    "        :param forecast_periods: the policyholder's age in years\n",
    "        :param frequency: the premium paid per period\n",
    "         '''\n",
    "        valid_life = life_df.lifetables.validate('life')\n",
    "        valid_lapse = lapse_df.lifetables.validate('lapse')\n",
    "        valid_yield = yield_df.lifetables.validate('yield')\n",
    "        \n",
    "        lapse_df.index = lapse_df.index - self.months_in_force\n",
    "        forecast_index = pd.date_range(start=datetime.today().date(), periods=forecast_periods, freq=freq).to_period()\n",
    "        \n",
    "        self.forecast_df = pd.DataFrame(index=forecast_index)\n",
    "        self.forecast_df['row_number'] = range(len(self.forecast_df))\n",
    "        self.forecast_df['months_in_force'] = self.forecast_df['row_number'] + self.months_in_force\n",
    "        self.forecast_df['age'] = self.forecast_df.index.map(self.calculate_age)\n",
    "        self.forecast_df['qx'] = self.forecast_df.merge(life_df, left_on='age', right_index=True)['qx']        \n",
    "        self.forecast_df['lapse_rate'] = self.forecast_df.merge(lapse_df, left_index=True, right_index=True)['lapse_rate']\n",
    "        self.forecast_df['deaths'] = self.forecast_df.apply(lambda x: self.calculate_deaths(x.qx, x.lapse_rate) / 12, axis=1)\n",
    "        self.forecast_df['surrenders'] = self.forecast_df.apply(lambda x: self.calculate_surrenders(x.qx, x.lapse_rate), axis=1)\n",
    "        self.forecast_df['active_policies'] = 1 - (self.forecast_df['deaths'].cumsum() + self.forecast_df['deaths'].cumsum())\n",
    "        self.forecast_df['premium_income'] = self.forecast_df['active_policies'] * self.premium\n",
    "        self.forecast_df['claims_outgo'] = self.forecast_df['deaths'] * self.sum_assured\n",
    "        self.forecast_df['profit'] = self.forecast_df['premium_income'] - self.forecast_df['claims_outgo']\n",
    "        self.forecast_df['yield_curve'] = self.forecast_df.merge(yield_df, left_index=True, right_index=True)['yield_curve']\n",
    "        self.forecast_df['npv_of_profit'] = self.forecast_df['profit'] * (1 + self.forecast_df['yield_curve']) ** (self.forecast_df['row_number'])"
   ]
  },
  {
   "cell_type": "code",
   "execution_count": 20,
   "metadata": {},
   "outputs": [
    {
     "data": {
      "text/html": [
       "<div>\n",
       "<style scoped>\n",
       "    .dataframe tbody tr th:only-of-type {\n",
       "        vertical-align: middle;\n",
       "    }\n",
       "\n",
       "    .dataframe tbody tr th {\n",
       "        vertical-align: top;\n",
       "    }\n",
       "\n",
       "    .dataframe thead th {\n",
       "        text-align: right;\n",
       "    }\n",
       "</style>\n",
       "<table border=\"1\" class=\"dataframe\">\n",
       "  <thead>\n",
       "    <tr style=\"text-align: right;\">\n",
       "      <th></th>\n",
       "      <th>row_number</th>\n",
       "      <th>months_in_force</th>\n",
       "      <th>age</th>\n",
       "      <th>qx</th>\n",
       "      <th>lapse_rate</th>\n",
       "      <th>deaths</th>\n",
       "      <th>surrenders</th>\n",
       "      <th>active_policies</th>\n",
       "      <th>premium_income</th>\n",
       "      <th>claims_outgo</th>\n",
       "      <th>profit</th>\n",
       "      <th>yield_curve</th>\n",
       "      <th>npv_of_profit</th>\n",
       "    </tr>\n",
       "  </thead>\n",
       "  <tbody>\n",
       "    <tr>\n",
       "      <th>2020-10</th>\n",
       "      <td>0</td>\n",
       "      <td>5</td>\n",
       "      <td>27</td>\n",
       "      <td>0.00292</td>\n",
       "      <td>0.007014</td>\n",
       "      <td>0.00002</td>\n",
       "      <td>0.006989</td>\n",
       "      <td>0.999960</td>\n",
       "      <td>3599.854512</td>\n",
       "      <td>20.206665</td>\n",
       "      <td>3579.647847</td>\n",
       "      <td>0.1</td>\n",
       "      <td>3579.647847</td>\n",
       "    </tr>\n",
       "    <tr>\n",
       "      <th>2020-11</th>\n",
       "      <td>1</td>\n",
       "      <td>6</td>\n",
       "      <td>27</td>\n",
       "      <td>0.00292</td>\n",
       "      <td>0.006944</td>\n",
       "      <td>0.00002</td>\n",
       "      <td>0.006920</td>\n",
       "      <td>0.999919</td>\n",
       "      <td>3599.709019</td>\n",
       "      <td>20.207369</td>\n",
       "      <td>3579.501650</td>\n",
       "      <td>0.1</td>\n",
       "      <td>3937.451815</td>\n",
       "    </tr>\n",
       "    <tr>\n",
       "      <th>2020-12</th>\n",
       "      <td>2</td>\n",
       "      <td>7</td>\n",
       "      <td>28</td>\n",
       "      <td>0.00287</td>\n",
       "      <td>0.006875</td>\n",
       "      <td>0.00002</td>\n",
       "      <td>0.006851</td>\n",
       "      <td>0.999879</td>\n",
       "      <td>3599.566012</td>\n",
       "      <td>19.862044</td>\n",
       "      <td>3579.703968</td>\n",
       "      <td>0.1</td>\n",
       "      <td>4331.441801</td>\n",
       "    </tr>\n",
       "    <tr>\n",
       "      <th>2021-01</th>\n",
       "      <td>3</td>\n",
       "      <td>8</td>\n",
       "      <td>28</td>\n",
       "      <td>0.00287</td>\n",
       "      <td>0.006806</td>\n",
       "      <td>0.00002</td>\n",
       "      <td>0.006782</td>\n",
       "      <td>0.999840</td>\n",
       "      <td>3599.423001</td>\n",
       "      <td>19.862736</td>\n",
       "      <td>3579.560264</td>\n",
       "      <td>0.1</td>\n",
       "      <td>4764.394712</td>\n",
       "    </tr>\n",
       "    <tr>\n",
       "      <th>2021-02</th>\n",
       "      <td>4</td>\n",
       "      <td>9</td>\n",
       "      <td>28</td>\n",
       "      <td>0.00287</td>\n",
       "      <td>0.006736</td>\n",
       "      <td>0.00002</td>\n",
       "      <td>0.006713</td>\n",
       "      <td>0.999800</td>\n",
       "      <td>3599.279984</td>\n",
       "      <td>19.863428</td>\n",
       "      <td>3579.416556</td>\n",
       "      <td>0.1</td>\n",
       "      <td>5240.623779</td>\n",
       "    </tr>\n",
       "  </tbody>\n",
       "</table>\n",
       "</div>"
      ],
      "text/plain": [
       "         row_number  months_in_force  age       qx  lapse_rate   deaths  \\\n",
       "2020-10           0                5   27  0.00292    0.007014  0.00002   \n",
       "2020-11           1                6   27  0.00292    0.006944  0.00002   \n",
       "2020-12           2                7   28  0.00287    0.006875  0.00002   \n",
       "2021-01           3                8   28  0.00287    0.006806  0.00002   \n",
       "2021-02           4                9   28  0.00287    0.006736  0.00002   \n",
       "\n",
       "         surrenders  active_policies  premium_income  claims_outgo  \\\n",
       "2020-10    0.006989         0.999960     3599.854512     20.206665   \n",
       "2020-11    0.006920         0.999919     3599.709019     20.207369   \n",
       "2020-12    0.006851         0.999879     3599.566012     19.862044   \n",
       "2021-01    0.006782         0.999840     3599.423001     19.862736   \n",
       "2021-02    0.006713         0.999800     3599.279984     19.863428   \n",
       "\n",
       "              profit  yield_curve  npv_of_profit  \n",
       "2020-10  3579.647847          0.1    3579.647847  \n",
       "2020-11  3579.501650          0.1    3937.451815  \n",
       "2020-12  3579.703968          0.1    4331.441801  \n",
       "2021-01  3579.560264          0.1    4764.394712  \n",
       "2021-02  3579.416556          0.1    5240.623779  "
      ]
     },
     "execution_count": 20,
     "metadata": {},
     "output_type": "execute_result"
    }
   ],
   "source": [
    "policy = simple_life(pd.Timestamp('1992-12-20'), 3600, 1000000, 5)\n",
    "policy.forecast_table(5, life_df, lapse_df, yield_df, 'M')\n",
    "policy.forecast_df"
   ]
  }
 ],
 "metadata": {
  "kernelspec": {
   "display_name": "Python 3",
   "language": "python",
   "name": "python3"
  },
  "language_info": {
   "codemirror_mode": {
    "name": "ipython",
    "version": 3
   },
   "file_extension": ".py",
   "mimetype": "text/x-python",
   "name": "python",
   "nbconvert_exporter": "python",
   "pygments_lexer": "ipython3",
   "version": "3.7.6"
  }
 },
 "nbformat": 4,
 "nbformat_minor": 4
}
